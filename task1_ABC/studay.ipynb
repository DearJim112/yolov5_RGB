{
 "cells": [
  {
   "cell_type": "code",
   "execution_count": 146,
   "metadata": {
    "collapsed": true
   },
   "outputs": [],
   "source": [
    "import cv2\n",
    "\n",
    "# print(img.shape)"
   ]
  },
  {
   "cell_type": "code",
   "execution_count": 147,
   "outputs": [],
   "source": [
    "#读取json编程txt文件\n",
    "import os\n",
    "import json\n",
    "import cv2\n",
    "pathimage=\"./task1/images/\" #图片路径\n",
    "path = \"./task1/labels/\" #文件夹目录\n",
    "txtpath=\"./RGYlightpic/labels/train2\" #保存到处的txt路径\n",
    "\n",
    "\n",
    "dic={'red':'0','green':'1','yellow':'2','other':'3'}\n",
    "files= os.listdir(path) #得到文件夹下的所有文件名称\n",
    "for file in files: #遍历文件夹\n",
    "     if not os.path.isdir(file): #判断是否是文件夹，不是文件夹才打开\n",
    "          f = open(path+\"/\"+file) #打开文件\n",
    "          json_data = json.load(f)\n",
    "          txtfile=txtpath+\"/\"+json_data['info']['image_name'][:-3]+'txt'\n",
    "          img = cv2.imread(pathimage+json_data['info']['image_name'][:-3]+'jpg')  #读取图片信息\n",
    "          with open(txtfile, 'w') as txtf:\n",
    "               txtf.write('')\n",
    "               for i in (json_data['annotations']):\n",
    "                    xc=format(i['bbox'][0]/img.shape[1],\".6f\")\n",
    "                    yc=format(i['bbox'][1]/img.shape[0],\".6f\")\n",
    "                    w=format(i['bbox'][2]/img.shape[1],\".6f\")\n",
    "                    h=format(i['bbox'][3]/img.shape[0],\".6f\")\n",
    "                    bbox=dic[i['color']]+' '+str(xc)+' '+str(yc)+' '+str(w)+' '+str(h)+'\\n'\n",
    "                    # print(bbox)\n",
    "                    txtf.writelines(bbox)\n",
    "\n",
    "# Create an object of class Country"
   ],
   "metadata": {
    "collapsed": false,
    "pycharm": {
     "name": "#%%\n"
    }
   }
  },
  {
   "cell_type": "code",
   "execution_count": 147,
   "outputs": [],
   "source": [],
   "metadata": {
    "collapsed": false,
    "pycharm": {
     "name": "#%%\n"
    }
   }
  },
  {
   "cell_type": "code",
   "execution_count": 148,
   "outputs": [
    {
     "name": "stdout",
     "output_type": "stream",
     "text": [
      "10030_1641972968875\n",
      "{'info': {'data': '20220316', 'image_name': '10030_1641972968875.jpg'}, 'annotations': [{'bbox': [55, 514, 10, 30], 'color': 'other'}, {'bbox': [184, 583, 7, 26], 'color': 'other'}, {'bbox': [711, 392, 42, 110], 'color': 'other'}, {'bbox': [776, 383, 50, 114], 'color': 'red'}, {'bbox': [1575, 590, 9, 21], 'color': 'red'}, {'bbox': [1560, 589, 8, 23], 'color': 'red'}, {'bbox': [1809, 529, 9, 30], 'color': 'green'}, {'bbox': [1879, 530, 8, 28], 'color': 'green'}]}\n",
      "10042_1641972970075\n",
      "{'info': {'data': '20220316', 'image_name': '10042_1641972970075.jpg'}, 'annotations': [{'bbox': [1879, 294, 66, 157], 'color': 'red'}, {'bbox': [947, 525, 12, 31], 'color': 'red'}, {'bbox': [873, 520, 14, 32], 'color': 'red'}, {'bbox': [1091, 593, 13, 31], 'color': 'red'}, {'bbox': [222, 539, 18, 41], 'color': 'red'}]}\n",
      "10055_1641972971376\n",
      "{'info': {'data': '20220316', 'image_name': '10055_1641972971376.jpg'}, 'annotations': [{'bbox': [1253, 498, 22, 51], 'color': 'red'}, {'bbox': [281, 376, 38, 109], 'color': 'other'}]}\n",
      "10071_1641972972976\n",
      "{'info': {'data': '20220316', 'image_name': '10071_1641972972976.jpg'}, 'annotations': [{'bbox': [1813, 244, 66, 171], 'color': 'other'}]}\n",
      "10290_1641972994876\n",
      "{'info': {'data': '20220316', 'image_name': '10290_1641972994876.jpg'}, 'annotations': [{'bbox': [1459, 525, 16, 33], 'color': 'green'}, {'bbox': [900, 462, 12, 33], 'color': 'green'}, {'bbox': [823, 460, 12, 36], 'color': 'red'}, {'bbox': [734, 459, 13, 33], 'color': 'red'}, {'bbox': [463, 508, 14, 31], 'color': 'other'}, {'bbox': [443, 509, 13, 32], 'color': 'other'}, {'bbox': [146, 510, 14, 29], 'color': 'other'}, {'bbox': [130, 510, 10, 30], 'color': 'other'}]}\n",
      "10303_1641972996176\n",
      "{'info': {'data': '20220316', 'image_name': '10303_1641972996176.jpg'}, 'annotations': [{'bbox': [178, 414, 18, 41], 'color': 'red'}, {'bbox': [278, 419, 16, 42], 'color': 'red'}, {'bbox': [365, 423, 17, 41], 'color': 'green'}, {'bbox': [530, 501, 18, 43], 'color': 'green'}, {'bbox': [1024, 516, 19, 41], 'color': 'red'}]}\n",
      "10670_1641973032875\n",
      "{'info': {'data': '20220316', 'image_name': '10670_1641973032875.jpg'}, 'annotations': [{'bbox': [64, 435, 17, 33], 'color': 'other'}, {'bbox': [203, 532, 35, 51], 'color': 'other'}, {'bbox': [1086, 469, 13, 29], 'color': 'red'}, {'bbox': [1226, 537, 11, 25], 'color': 'red'}, {'bbox': [1363, 561, 24, 26], 'color': 'red'}, {'bbox': [1705, 543, 39, 49], 'color': 'other'}]}\n",
      "10701_1641973035975\n",
      "{'info': {'data': '20220316', 'image_name': '10701_1641973035975.jpg'}, 'annotations': [{'bbox': [1110, 390, 18, 43], 'color': 'red'}, {'bbox': [1236, 394, 18, 42], 'color': 'red'}, {'bbox': [1318, 493, 17, 42], 'color': 'red'}, {'bbox': [1563, 521, 36, 43], 'color': 'other'}, {'bbox': [246, 521, 22, 43], 'color': 'other'}]}\n",
      "10773_1641973043175\n",
      "{'info': {'data': '20220316', 'image_name': '10773_1641973043175.jpg'}, 'annotations': [{'bbox': [1119, 397, 20, 46], 'color': 'red'}, {'bbox': [1255, 401, 21, 44], 'color': 'red'}, {'bbox': [1345, 508, 19, 45], 'color': 'red'}, {'bbox': [1622, 537, 42, 45], 'color': 'other'}, {'bbox': [167, 534, 22, 44], 'color': 'other'}]}\n"
     ]
    }
   ],
   "source": [
    "import os\n",
    "import datetime\n",
    "import json\n",
    "import cv2\n",
    "path = \"./RGYlightpic/labels/train2\" #文件夹目录\n",
    "path2= \"./task1 样例数据/label2/\" #文件夹目录\n",
    "pathimage=\"./task1/images/\" #图片路径\n",
    "\n",
    "\n",
    "dic_rev={'0':'red','1':'green','2':'yellow','3':'other'}\n",
    "newdic={}\n",
    "files= os.listdir(path) #得到文件夹下的所有文件名称\n",
    "for file in files: #遍历文件夹\n",
    "     if not os.path.isdir(file): #判断是否是文件夹，不是文件夹才打开\n",
    "          f = open(path+\"/\"+file) #打开文件\n",
    "          print(file[:-4])\n",
    "          newdic['info']={'data':datetime.datetime.now().strftime('%Y%m%d'),'image_name':file[:-3]+'jpg'}\n",
    "          data = f.readlines()  #直接将文件中按行读到list里，效果与方法2一样\n",
    "          f.close()\n",
    "          img = cv2.imread(pathimage+file[:-3]+'jpg')  #读取图片信息\n",
    "          annotationslist=[]\n",
    "          for i in data:\n",
    "               # print(i)\n",
    "               xy=i.split(' ')\n",
    "               color=xy[0]\n",
    "               xc=float(xy[1])\n",
    "               yc=float(xy[2])\n",
    "               w=float(xy[3])\n",
    "               h=float(xy[4])\n",
    "               # print(xy[4])\n",
    "               annotationslist.append({\"bbox\":[round(xc*img.shape[1]),\n",
    "                                               round(yc*img.shape[0]),\n",
    "                                               round(w*img.shape[1]),\n",
    "                                               round(h*img.shape[0])],\n",
    "                                       \"color\":dic_rev[color]})\n",
    "          newdic['annotations']=annotationslist\n",
    "          jsObj = json.dumps(newdic)\n",
    "          jsonfile=path2+file[:-3]+'json'\n",
    "          fileObject = open(jsonfile, 'w')\n",
    "          fileObject.write(jsObj)\n",
    "          fileObject.close()\n",
    "          print(newdic)"
   ],
   "metadata": {
    "collapsed": false,
    "pycharm": {
     "name": "#%% 读取txt\n"
    }
   }
  }
 ],
 "metadata": {
  "kernelspec": {
   "display_name": "Python 3",
   "language": "python",
   "name": "python3"
  },
  "language_info": {
   "codemirror_mode": {
    "name": "ipython",
    "version": 2
   },
   "file_extension": ".py",
   "mimetype": "text/x-python",
   "name": "python",
   "nbconvert_exporter": "python",
   "pygments_lexer": "ipython2",
   "version": "2.7.6"
  }
 },
 "nbformat": 4,
 "nbformat_minor": 0
}